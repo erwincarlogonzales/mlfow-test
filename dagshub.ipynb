{
 "cells": [
  {
   "cell_type": "code",
   "execution_count": null,
   "metadata": {},
   "outputs": [],
   "source": [
    "import pandas as pd\n",
    "\n",
    "def load_data(file_path):\n",
    "    df = pd.read_csv(file_path)\n",
    "\n",
    "    return df\n",
    "\n",
    "file_path = 'data/literacy_rates_clean.csv'\n",
    "df = load_data(file_path)\n",
    "df.head()"
   ]
  },
  {
   "cell_type": "code",
   "execution_count": null,
   "metadata": {},
   "outputs": [],
   "source": [
    "def eda(df):\n",
    "\n",
    "    duplicates = df.duplicated().sum()\n",
    "    missing_values = df.isnull().sum()\n",
    "    data_types = df.info()\n",
    "\n",
    "    print(data_types)\n",
    "    print('--' * 20)\n",
    "    print(f\"Number of duplicates: {duplicates}\")\n",
    "    print(f\"\\nNumber of missing values: {missing_values}\")\n",
    "    \n",
    "eda(df)"
   ]
  },
  {
   "cell_type": "code",
   "execution_count": 3,
   "metadata": {},
   "outputs": [],
   "source": [
    "from sklearn.model_selection import train_test_split\n",
    "\n",
    "# Determine the target variable\n",
    "y = df['Literacy rate']\n",
    "X = df.drop(columns='Literacy rate')\n",
    "\n",
    "# Split the data into training and testing sets\n",
    "X_train, X_test, y_train, y_test = train_test_split(X, y, test_size=0.2, random_state=42)"
   ]
  },
  {
   "cell_type": "code",
   "execution_count": 4,
   "metadata": {},
   "outputs": [],
   "source": [
    "from sklearn.compose import make_column_selector, ColumnTransformer\n",
    "from sklearn.preprocessing import StandardScaler, OneHotEncoder\n",
    "from sklearn.impute import KNNImputer\n",
    "from sklearn.pipeline import Pipeline\n",
    "\n",
    "# Select categorical and numerical columns\n",
    "num_cols = make_column_selector(dtype_include='number')\n",
    "cat_cols = make_column_selector(dtype_include='object')\n",
    "\n",
    "# Instantiate the transformers\n",
    "scaler = StandardScaler()\n",
    "encoder = OneHotEncoder(sparse_output=False, handle_unknown='ignore')\n",
    "imputer = KNNImputer(n_neighbors=2)\n",
    "\n",
    "# Create preprocessing pipeline\n",
    "def preprocessing_pipeline():\n",
    "\n",
    "    # Create numeric and categorical pipelines\n",
    "    num_pipe = Pipeline([\n",
    "        ('imputer', imputer),\n",
    "        ('scaler', scaler)\n",
    "    ])\n",
    "\n",
    "    cat_pipe = Pipeline([\n",
    "        ('encoder', encoder)\n",
    "    ])\n",
    "\n",
    "    # Create preprocessor\n",
    "    preprocessor = ColumnTransformer([\n",
    "        ('numeric', num_pipe, num_cols),\n",
    "        ('categorical', cat_pipe, cat_cols)\n",
    "    ])\n",
    "\n",
    "    return preprocessor\n",
    "\n",
    "# Apply the preprocessing pipeline\n",
    "preprocessor = preprocessing_pipeline()\n",
    "X_train_transformed = preprocessor.fit_transform(X_train)\n",
    "X_test_transformed = preprocessor.transform(X_test)"
   ]
  },
  {
   "cell_type": "code",
   "execution_count": 5,
   "metadata": {},
   "outputs": [
    {
     "name": "stderr",
     "output_type": "stream",
     "text": [
      "100%|██████████| 42/42 [00:04<00:00,  8.84it/s]"
     ]
    },
    {
     "name": "stdout",
     "output_type": "stream",
     "text": [
      "[LightGBM] [Info] Auto-choosing row-wise multi-threading, the overhead of testing was 0.000053 seconds.\n",
      "You can set `force_row_wise=true` to remove the overhead.\n",
      "And if memory is not enough, you can set `force_col_wise=true`.\n",
      "[LightGBM] [Info] Total Bins 190\n",
      "[LightGBM] [Info] Number of data points in the train set: 2642, number of used features: 15\n",
      "[LightGBM] [Info] Start training from score 0.816639\n"
     ]
    },
    {
     "name": "stderr",
     "output_type": "stream",
     "text": [
      "\n"
     ]
    },
    {
     "data": {
      "text/html": [
       "<div>\n",
       "<style scoped>\n",
       "    .dataframe tbody tr th:only-of-type {\n",
       "        vertical-align: middle;\n",
       "    }\n",
       "\n",
       "    .dataframe tbody tr th {\n",
       "        vertical-align: top;\n",
       "    }\n",
       "\n",
       "    .dataframe thead th {\n",
       "        text-align: right;\n",
       "    }\n",
       "</style>\n",
       "<table border=\"1\" class=\"dataframe\">\n",
       "  <thead>\n",
       "    <tr style=\"text-align: right;\">\n",
       "      <th></th>\n",
       "      <th>Adjusted R-Squared</th>\n",
       "      <th>R-Squared</th>\n",
       "      <th>RMSE</th>\n",
       "      <th>Time Taken</th>\n",
       "    </tr>\n",
       "    <tr>\n",
       "      <th>Model</th>\n",
       "      <th></th>\n",
       "      <th></th>\n",
       "      <th></th>\n",
       "      <th></th>\n",
       "    </tr>\n",
       "  </thead>\n",
       "  <tbody>\n",
       "    <tr>\n",
       "      <th>XGBRegressor</th>\n",
       "      <td>0.94</td>\n",
       "      <td>0.94</td>\n",
       "      <td>0.05</td>\n",
       "      <td>0.19</td>\n",
       "    </tr>\n",
       "    <tr>\n",
       "      <th>LGBMRegressor</th>\n",
       "      <td>0.87</td>\n",
       "      <td>0.87</td>\n",
       "      <td>0.08</td>\n",
       "      <td>0.08</td>\n",
       "    </tr>\n",
       "    <tr>\n",
       "      <th>HistGradientBoostingRegressor</th>\n",
       "      <td>0.87</td>\n",
       "      <td>0.87</td>\n",
       "      <td>0.08</td>\n",
       "      <td>0.25</td>\n",
       "    </tr>\n",
       "    <tr>\n",
       "      <th>RandomForestRegressor</th>\n",
       "      <td>0.79</td>\n",
       "      <td>0.79</td>\n",
       "      <td>0.10</td>\n",
       "      <td>0.53</td>\n",
       "    </tr>\n",
       "    <tr>\n",
       "      <th>BaggingRegressor</th>\n",
       "      <td>0.75</td>\n",
       "      <td>0.76</td>\n",
       "      <td>0.11</td>\n",
       "      <td>0.08</td>\n",
       "    </tr>\n",
       "  </tbody>\n",
       "</table>\n",
       "</div>"
      ],
      "text/plain": [
       "                               Adjusted R-Squared  R-Squared  RMSE  Time Taken\n",
       "Model                                                                         \n",
       "XGBRegressor                                 0.94       0.94  0.05        0.19\n",
       "LGBMRegressor                                0.87       0.87  0.08        0.08\n",
       "HistGradientBoostingRegressor                0.87       0.87  0.08        0.25\n",
       "RandomForestRegressor                        0.79       0.79  0.10        0.53\n",
       "BaggingRegressor                             0.75       0.76  0.11        0.08"
      ]
     },
     "execution_count": 5,
     "metadata": {},
     "output_type": "execute_result"
    }
   ],
   "source": [
    "import warnings\n",
    "from lazypredict.Supervised import LazyRegressor\n",
    "\n",
    "warnings.filterwarnings('ignore')\n",
    "\n",
    "# Instantiate the model\n",
    "lazy_model = LazyRegressor(verbose=0, ignore_warnings=False, custom_metric=None)\n",
    "\n",
    "# Fit the model\n",
    "models, predictions = lazy_model.fit(X_train, X_test, y_train, y_test)\n",
    "\n",
    "# Print the top 5 models\n",
    "top_5 = models.sort_values('Adjusted R-Squared', ascending=False).head()\n",
    "top_5"
   ]
  },
  {
   "cell_type": "code",
   "execution_count": 6,
   "metadata": {},
   "outputs": [],
   "source": [
    "import numpy as np\n",
    "from sklearn.metrics import mean_absolute_error, mean_squared_error, r2_score\n",
    "\n",
    "# Evaluate models\n",
    "def evaluate_models(y_true, y_pred):\n",
    "    mae = mean_absolute_error(y_true, y_pred)\n",
    "    mse = mean_squared_error(y_true, y_pred)\n",
    "    rmse = np.sqrt(mse)\n",
    "    r2 = r2_score(y_true, y_pred)\n",
    "\n",
    "    print(f'Mean Absolute Error: {mae:.2f}')\n",
    "    print(f'Mean Squared Error: {mse:.2f}')\n",
    "    print(f'Root Mean Squared Error: {rmse:.2f}')\n",
    "    print(f'R-Squared: {r2:.2f}')\n",
    "\n",
    "    return mae, mse, rmse, r2"
   ]
  },
  {
   "cell_type": "code",
   "execution_count": 7,
   "metadata": {},
   "outputs": [
    {
     "name": "stdout",
     "output_type": "stream",
     "text": [
      "Mean Absolute Error: 0.04\n",
      "Mean Squared Error: 0.00\n",
      "Root Mean Squared Error: 0.06\n",
      "R-Squared: 0.92\n",
      "Model: XGBRegressor\n",
      "----------------------------------------\n",
      "Mean Absolute Error: 0.04\n",
      "Mean Squared Error: 0.01\n",
      "Root Mean Squared Error: 0.08\n",
      "R-Squared: 0.88\n",
      "Model: RandomForestRegressor\n",
      "----------------------------------------\n"
     ]
    }
   ],
   "source": [
    "from xgboost import XGBRegressor\n",
    "from sklearn.ensemble import RandomForestRegressor\n",
    "\n",
    "# Run models\n",
    "models = [\n",
    "    XGBRegressor(),\n",
    "    RandomForestRegressor(random_state=42)\n",
    "]\n",
    "\n",
    "for model_name in models:\n",
    "    model_name.fit(X_train_transformed, y_train)\n",
    "    y_pred = model_name.predict(X_test_transformed)\n",
    "    evaluate_models(y_test, y_pred)\n",
    "\n",
    "    print(f'Model: {model_name.__class__.__name__}')   \n",
    "    print('--' * 20)"
   ]
  },
  {
   "cell_type": "code",
   "execution_count": 8,
   "metadata": {},
   "outputs": [
    {
     "data": {
      "text/html": [
       "<pre style=\"white-space:pre;overflow-x:auto;line-height:normal;font-family:Menlo,'DejaVu Sans Mono',consolas,'Courier New',monospace\">Accessing as erwincarlogonzales\n",
       "</pre>\n"
      ],
      "text/plain": [
       "Accessing as erwincarlogonzales\n"
      ]
     },
     "metadata": {},
     "output_type": "display_data"
    },
    {
     "data": {
      "text/html": [
       "<pre style=\"white-space:pre;overflow-x:auto;line-height:normal;font-family:Menlo,'DejaVu Sans Mono',consolas,'Courier New',monospace\">Initialized MLflow to track repo <span style=\"color: #008000; text-decoration-color: #008000\">\"erwincarlogonzales/mlflow-basics\"</span>\n",
       "</pre>\n"
      ],
      "text/plain": [
       "Initialized MLflow to track repo \u001b[32m\"erwincarlogonzales/mlflow-basics\"\u001b[0m\n"
      ]
     },
     "metadata": {},
     "output_type": "display_data"
    },
    {
     "data": {
      "text/html": [
       "<pre style=\"white-space:pre;overflow-x:auto;line-height:normal;font-family:Menlo,'DejaVu Sans Mono',consolas,'Courier New',monospace\">Repository erwincarlogonzales/mlflow-basics initialized!\n",
       "</pre>\n"
      ],
      "text/plain": [
       "Repository erwincarlogonzales/mlflow-basics initialized!\n"
      ]
     },
     "metadata": {},
     "output_type": "display_data"
    }
   ],
   "source": [
    "# # dagshub\n",
    "# import dagshub\n",
    "# dagshub.init(repo_owner='erwincarlogonzales', repo_name='mlflow-basics', mlflow=True)\n",
    "\n",
    "# import os\n",
    "# os.environ['MLFLOW_TRACKING_USERNAME'] = 'erwincarlogonzales'\n",
    "# os.environ['MLFLOW_TRACKING_PASSWORD'] = 'ee5ab363f7458257b89e48a7cce05a2a59cc8e6e'\n",
    "# os.environ['MLFLOW_TRACKING_URI'] = 'https://dagshub.com/erwincarlogonzales/mlflow-basics.mlflow'\n",
    "\n",
    "from dotenv import load_dotenv\n",
    "import os\n",
    "import dagshub\n",
    "\n",
    "# Load environment variables from .env file\n",
    "load_dotenv()\n",
    "\n",
    "# Initialize dagshub with values from .env\n",
    "dagshub.init(\n",
    "    repo_owner=os.getenv('DAGSHUB_REPO_OWNER'),\n",
    "    repo_name=os.getenv('DAGSHUB_REPO_NAME'),\n",
    "    mlflow=True\n",
    ")"
   ]
  },
  {
   "cell_type": "code",
   "execution_count": 9,
   "metadata": {},
   "outputs": [
    {
     "data": {
      "text/plain": [
       "<Experiment: artifact_location='mlflow-artifacts:/01dd4db9f9664444976b43ab86f9165c', creation_time=1733667369822, experiment_id='0', last_update_time=1733667369822, lifecycle_stage='active', name='literacy-rate', tags={}>"
      ]
     },
     "execution_count": 9,
     "metadata": {},
     "output_type": "execute_result"
    }
   ],
   "source": [
    "import mlflow\n",
    "import mlflow.sklearn\n",
    "import mlflow.xgboost\n",
    "from mlflow.tracking import MlflowClient\n",
    "\n",
    "# Set up MLflow tracking\n",
    "mlflow.set_experiment('literacy-rate')\n",
    "# mlflow.set_tracking_uri('https://dagshub.com/erwincarlogonzales/mlflow-basics.mlflow')\n",
    "\n",
    "# Run mlflow ui\n",
    "# in the terminal run: mlflow ui\n",
    "# go to http://127.0.0.1:5000"
   ]
  },
  {
   "cell_type": "code",
   "execution_count": 10,
   "metadata": {},
   "outputs": [],
   "source": [
    "# Train and track models\n",
    "with mlflow.start_run(run_name='XGBRegressor'):\n",
    "    \n",
    "    # Log parameters\n",
    "    mlflow.log_param('test_size', 0.2)\n",
    "    mlflow.log_param('random_state', 42)\n",
    "\n",
    "    # Train model\n",
    "    xgb_regressor = XGBRegressor()\n",
    "    xgb_regressor.fit(X_train_transformed, y_train)\n",
    "\n",
    "    # Make predictions and evaluate\n",
    "    y_pred = xgb_regressor.predict(X_test_transformed)\n",
    "    mae, mse, rmse, r2 = evaluate_models(y_test, y_pred)\n",
    "\n",
    "    # Log metrics\n",
    "    mlflow.log_metrics({\n",
    "        'Mean Absolute Error': mae,\n",
    "        'Mean Squared Error': mse,\n",
    "        'Root Mean Squared Error': rmse,\n",
    "        'R-Squared': r2\n",
    "    })"
   ]
  },
  {
   "cell_type": "code",
   "execution_count": 11,
   "metadata": {},
   "outputs": [],
   "source": [
    "with mlflow.start_run(run_name='RandomForestRegressor'):\n",
    "\n",
    "    # Log parameters\n",
    "    mlflow.log_param('test_size', 0.2)\n",
    "    mlflow.log_param('random_state', 42)\n",
    "\n",
    "    # Train model\n",
    "    rf_regressor = RandomForestRegressor(random_state=42)\n",
    "    rf_regressor.fit(X_train_transformed, y_train)\n",
    "\n",
    "    # Make predictions\n",
    "    y_pred = rf_regressor.predict(X_test_transformed)\n",
    "    mae, mse, rmse, r2 = evaluate_models(y_test, y_pred)\n",
    "\n",
    "    # Log metrics\n",
    "    mlflow.log_metrics({\n",
    "        'Mean Absolute Error': mae,\n",
    "        'Mean Squared Error': mse,\n",
    "        'Root Mean Squared Error': rmse,\n",
    "        'R-Squared': r2\n",
    "    })"
   ]
  },
  {
   "cell_type": "code",
   "execution_count": 12,
   "metadata": {},
   "outputs": [],
   "source": [
    "from mlflow.tracking import MlflowClient\n",
    "\n",
    "# Model registry\n",
    "def register_model(run_id, model_name):\n",
    "    model_uri = f'runs:/{run_id}/model'\n",
    "\n",
    "    return mlflow.register_model(model_uri=model_uri, name=model_name)\n",
    "\n",
    "# Promote model\n",
    "def promote_challenger_to_production(model_name, prod_name):\n",
    "    client = MlflowClient()\n",
    "    current_model_uri = f\"models:/{model_name}@challenger\"\n",
    "    client.copy_model_version(src_model_uri=current_model_uri, dst_name=prod_name)\n",
    "\n",
    "# Retrieve production model\n",
    "def get_production_champion(prod_name):\n",
    "    prod_model_uri = f\"models:/{prod_name}@champion\"\n",
    "    return mlflow.xgboost.load_model(prod_model_uri)"
   ]
  },
  {
   "cell_type": "code",
   "execution_count": 13,
   "metadata": {},
   "outputs": [],
   "source": [
    "run_id = '26bbc91b56a542c38d5b5afe473601ff' # Get this from MLflow UI\n",
    "model_name = 'XGBRegressor'\n",
    "prod_name = 'literacy-rate-production'\n",
    "\n",
    "# Register model\n",
    "model_details = register_model(run_id, model_name)\n",
    "print(f'Registered model version: {model_details.version}')"
   ]
  },
  {
   "cell_type": "code",
   "execution_count": 14,
   "metadata": {},
   "outputs": [],
   "source": [
    "# # Promote challenger to production => make sure to add challenger to the model alias\n",
    "# promote_challenger_to_production(model_name, prod_name)"
   ]
  },
  {
   "cell_type": "code",
   "execution_count": 15,
   "metadata": {},
   "outputs": [],
   "source": [
    "# Get the champion model => make sure to add champion to the literacy-rate-production model alias\n",
    "# champion_model = get_production_champion(prod_name)"
   ]
  }
 ],
 "metadata": {
  "kernelspec": {
   "display_name": ".venv",
   "language": "python",
   "name": "python3"
  },
  "language_info": {
   "codemirror_mode": {
    "name": "ipython",
    "version": 3
   },
   "file_extension": ".py",
   "mimetype": "text/x-python",
   "name": "python",
   "nbconvert_exporter": "python",
   "pygments_lexer": "ipython3",
   "version": "3.11.5"
  }
 },
 "nbformat": 4,
 "nbformat_minor": 2
}
