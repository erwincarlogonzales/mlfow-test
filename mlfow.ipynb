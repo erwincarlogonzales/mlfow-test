{
 "cells": [
  {
   "cell_type": "code",
   "execution_count": 1,
   "metadata": {},
   "outputs": [
    {
     "data": {
      "text/html": [
       "<div>\n",
       "<style scoped>\n",
       "    .dataframe tbody tr th:only-of-type {\n",
       "        vertical-align: middle;\n",
       "    }\n",
       "\n",
       "    .dataframe tbody tr th {\n",
       "        vertical-align: top;\n",
       "    }\n",
       "\n",
       "    .dataframe thead th {\n",
       "        text-align: right;\n",
       "    }\n",
       "</style>\n",
       "<table border=\"1\" class=\"dataframe\">\n",
       "  <thead>\n",
       "    <tr style=\"text-align: right;\">\n",
       "      <th></th>\n",
       "      <th>Region</th>\n",
       "      <th>Country</th>\n",
       "      <th>Year</th>\n",
       "      <th>Age</th>\n",
       "      <th>Gender</th>\n",
       "      <th>Literacy rate</th>\n",
       "    </tr>\n",
       "  </thead>\n",
       "  <tbody>\n",
       "    <tr>\n",
       "      <th>0</th>\n",
       "      <td>Central and Southern Asia</td>\n",
       "      <td>Afghanistan</td>\n",
       "      <td>2011</td>\n",
       "      <td>15+</td>\n",
       "      <td>female</td>\n",
       "      <td>0.176121</td>\n",
       "    </tr>\n",
       "    <tr>\n",
       "      <th>1</th>\n",
       "      <td>Central and Southern Asia</td>\n",
       "      <td>Afghanistan</td>\n",
       "      <td>2011</td>\n",
       "      <td>15+</td>\n",
       "      <td>male</td>\n",
       "      <td>0.454171</td>\n",
       "    </tr>\n",
       "    <tr>\n",
       "      <th>2</th>\n",
       "      <td>Central and Southern Asia</td>\n",
       "      <td>Afghanistan</td>\n",
       "      <td>2011</td>\n",
       "      <td>15-24</td>\n",
       "      <td>female</td>\n",
       "      <td>0.321132</td>\n",
       "    </tr>\n",
       "    <tr>\n",
       "      <th>3</th>\n",
       "      <td>Central and Southern Asia</td>\n",
       "      <td>Afghanistan</td>\n",
       "      <td>2011</td>\n",
       "      <td>15-24</td>\n",
       "      <td>male</td>\n",
       "      <td>0.618791</td>\n",
       "    </tr>\n",
       "    <tr>\n",
       "      <th>4</th>\n",
       "      <td>Central and Southern Asia</td>\n",
       "      <td>Afghanistan</td>\n",
       "      <td>2011</td>\n",
       "      <td>25-64</td>\n",
       "      <td>female</td>\n",
       "      <td>0.084128</td>\n",
       "    </tr>\n",
       "  </tbody>\n",
       "</table>\n",
       "</div>"
      ],
      "text/plain": [
       "                      Region      Country  Year    Age  Gender  Literacy rate\n",
       "0  Central and Southern Asia  Afghanistan  2011    15+  female       0.176121\n",
       "1  Central and Southern Asia  Afghanistan  2011    15+    male       0.454171\n",
       "2  Central and Southern Asia  Afghanistan  2011  15-24  female       0.321132\n",
       "3  Central and Southern Asia  Afghanistan  2011  15-24    male       0.618791\n",
       "4  Central and Southern Asia  Afghanistan  2011  25-64  female       0.084128"
      ]
     },
     "execution_count": 1,
     "metadata": {},
     "output_type": "execute_result"
    }
   ],
   "source": [
    "import pandas as pd\n",
    "\n",
    "def load_data(file_path):\n",
    "    df = pd.read_csv(file_path)\n",
    "\n",
    "    return df\n",
    "\n",
    "file_path = 'data/literacy_rates_clean.csv'\n",
    "df = load_data(file_path)\n",
    "df.head()"
   ]
  },
  {
   "cell_type": "code",
   "execution_count": 2,
   "metadata": {},
   "outputs": [
    {
     "name": "stdout",
     "output_type": "stream",
     "text": [
      "<class 'pandas.core.frame.DataFrame'>\n",
      "RangeIndex: 3303 entries, 0 to 3302\n",
      "Data columns (total 6 columns):\n",
      " #   Column         Non-Null Count  Dtype  \n",
      "---  ------         --------------  -----  \n",
      " 0   Region         3303 non-null   object \n",
      " 1   Country        3303 non-null   object \n",
      " 2   Year           3303 non-null   int64  \n",
      " 3   Age            3303 non-null   object \n",
      " 4   Gender         3303 non-null   object \n",
      " 5   Literacy rate  3303 non-null   float64\n",
      "dtypes: float64(1), int64(1), object(4)\n",
      "memory usage: 155.0+ KB\n",
      "None\n",
      "----------------------------------------\n",
      "Number of duplicates: 0\n",
      "\n",
      "Number of missing values: Region           0\n",
      "Country          0\n",
      "Year             0\n",
      "Age              0\n",
      "Gender           0\n",
      "Literacy rate    0\n",
      "dtype: int64\n"
     ]
    }
   ],
   "source": [
    "def eda(df):\n",
    "\n",
    "    duplicates = df.duplicated().sum()\n",
    "    missing_values = df.isnull().sum()\n",
    "    data_types = df.info()\n",
    "\n",
    "    print(data_types)\n",
    "    print('--' * 20)\n",
    "    print(f\"Number of duplicates: {duplicates}\")\n",
    "    print(f\"\\nNumber of missing values: {missing_values}\")\n",
    "    \n",
    "eda(df)"
   ]
  },
  {
   "cell_type": "code",
   "execution_count": 3,
   "metadata": {},
   "outputs": [],
   "source": [
    "from sklearn.model_selection import train_test_split\n",
    "\n",
    "# Determine the target variable\n",
    "y = df['Literacy rate']\n",
    "X = df.drop(columns='Literacy rate')\n",
    "\n",
    "# Split the data into training and testing sets\n",
    "X_train, X_test, y_train, y_test = train_test_split(X, y, test_size=0.2, random_state=42)"
   ]
  },
  {
   "cell_type": "code",
   "execution_count": 4,
   "metadata": {},
   "outputs": [],
   "source": [
    "from sklearn.compose import make_column_selector, ColumnTransformer\n",
    "from sklearn.preprocessing import StandardScaler, OneHotEncoder\n",
    "from sklearn.impute import KNNImputer\n",
    "from sklearn.pipeline import Pipeline\n",
    "\n",
    "# Select categorical and numerical columns\n",
    "num_cols = make_column_selector(dtype_include='number')\n",
    "cat_cols = make_column_selector(dtype_include='object')\n",
    "\n",
    "# Instantiate the transformers\n",
    "scaler = StandardScaler()\n",
    "encoder = OneHotEncoder(sparse_output=False, handle_unknown='ignore')\n",
    "imputer = KNNImputer(n_neighbors=2)\n",
    "\n",
    "# Create preprocessing pipeline\n",
    "def preprocessing_pipeline():\n",
    "\n",
    "    # Create numeric and categorical pipelines\n",
    "    num_pipe = Pipeline([\n",
    "        ('imputer', imputer),\n",
    "        ('scaler', scaler)\n",
    "    ])\n",
    "\n",
    "    cat_pipe = Pipeline([\n",
    "        ('encoder', encoder)\n",
    "    ])\n",
    "\n",
    "    # Create preprocessor\n",
    "    preprocessor = ColumnTransformer([\n",
    "        ('numeric', num_pipe, num_cols),\n",
    "        ('categorical', cat_pipe, cat_cols)\n",
    "    ])\n",
    "\n",
    "    return preprocessor\n",
    "\n",
    "# Apply the preprocessing pipeline\n",
    "preprocessor = preprocessing_pipeline()\n",
    "X_train_transformed = preprocessor.fit_transform(X_train)\n",
    "X_test_transformed = preprocessor.transform(X_test)"
   ]
  },
  {
   "cell_type": "code",
   "execution_count": 5,
   "metadata": {},
   "outputs": [
    {
     "name": "stderr",
     "output_type": "stream",
     "text": [
      "100%|██████████| 42/42 [00:04<00:00,  8.98it/s]"
     ]
    },
    {
     "name": "stdout",
     "output_type": "stream",
     "text": [
      "[LightGBM] [Info] Auto-choosing row-wise multi-threading, the overhead of testing was 0.000046 seconds.\n",
      "You can set `force_row_wise=true` to remove the overhead.\n",
      "And if memory is not enough, you can set `force_col_wise=true`.\n",
      "[LightGBM] [Info] Total Bins 190\n",
      "[LightGBM] [Info] Number of data points in the train set: 2642, number of used features: 15\n",
      "[LightGBM] [Info] Start training from score 0.816639\n"
     ]
    },
    {
     "name": "stderr",
     "output_type": "stream",
     "text": [
      "\n"
     ]
    },
    {
     "data": {
      "text/html": [
       "<div>\n",
       "<style scoped>\n",
       "    .dataframe tbody tr th:only-of-type {\n",
       "        vertical-align: middle;\n",
       "    }\n",
       "\n",
       "    .dataframe tbody tr th {\n",
       "        vertical-align: top;\n",
       "    }\n",
       "\n",
       "    .dataframe thead th {\n",
       "        text-align: right;\n",
       "    }\n",
       "</style>\n",
       "<table border=\"1\" class=\"dataframe\">\n",
       "  <thead>\n",
       "    <tr style=\"text-align: right;\">\n",
       "      <th></th>\n",
       "      <th>Adjusted R-Squared</th>\n",
       "      <th>R-Squared</th>\n",
       "      <th>RMSE</th>\n",
       "      <th>Time Taken</th>\n",
       "    </tr>\n",
       "    <tr>\n",
       "      <th>Model</th>\n",
       "      <th></th>\n",
       "      <th></th>\n",
       "      <th></th>\n",
       "      <th></th>\n",
       "    </tr>\n",
       "  </thead>\n",
       "  <tbody>\n",
       "    <tr>\n",
       "      <th>XGBRegressor</th>\n",
       "      <td>0.94</td>\n",
       "      <td>0.94</td>\n",
       "      <td>0.05</td>\n",
       "      <td>0.19</td>\n",
       "    </tr>\n",
       "    <tr>\n",
       "      <th>LGBMRegressor</th>\n",
       "      <td>0.87</td>\n",
       "      <td>0.87</td>\n",
       "      <td>0.08</td>\n",
       "      <td>0.08</td>\n",
       "    </tr>\n",
       "    <tr>\n",
       "      <th>HistGradientBoostingRegressor</th>\n",
       "      <td>0.87</td>\n",
       "      <td>0.87</td>\n",
       "      <td>0.08</td>\n",
       "      <td>0.23</td>\n",
       "    </tr>\n",
       "    <tr>\n",
       "      <th>RandomForestRegressor</th>\n",
       "      <td>0.79</td>\n",
       "      <td>0.79</td>\n",
       "      <td>0.10</td>\n",
       "      <td>0.53</td>\n",
       "    </tr>\n",
       "    <tr>\n",
       "      <th>BaggingRegressor</th>\n",
       "      <td>0.75</td>\n",
       "      <td>0.76</td>\n",
       "      <td>0.11</td>\n",
       "      <td>0.08</td>\n",
       "    </tr>\n",
       "  </tbody>\n",
       "</table>\n",
       "</div>"
      ],
      "text/plain": [
       "                               Adjusted R-Squared  R-Squared  RMSE  Time Taken\n",
       "Model                                                                         \n",
       "XGBRegressor                                 0.94       0.94  0.05        0.19\n",
       "LGBMRegressor                                0.87       0.87  0.08        0.08\n",
       "HistGradientBoostingRegressor                0.87       0.87  0.08        0.23\n",
       "RandomForestRegressor                        0.79       0.79  0.10        0.53\n",
       "BaggingRegressor                             0.75       0.76  0.11        0.08"
      ]
     },
     "execution_count": 5,
     "metadata": {},
     "output_type": "execute_result"
    }
   ],
   "source": [
    "import warnings\n",
    "from lazypredict.Supervised import LazyRegressor\n",
    "\n",
    "warnings.filterwarnings('ignore')\n",
    "\n",
    "# Instantiate the model\n",
    "lazy_model = LazyRegressor(verbose=0, ignore_warnings=False, custom_metric=None)\n",
    "\n",
    "# Fit the model\n",
    "models, predictions = lazy_model.fit(X_train, X_test, y_train, y_test)\n",
    "\n",
    "# Print the top 5 models\n",
    "top_5 = models.sort_values('Adjusted R-Squared', ascending=False).head()\n",
    "top_5"
   ]
  },
  {
   "cell_type": "code",
   "execution_count": 11,
   "metadata": {},
   "outputs": [],
   "source": [
    "import numpy as np\n",
    "from sklearn.metrics import mean_absolute_error, mean_squared_error, r2_score\n",
    "\n",
    "# Evaluate models\n",
    "def evaluate_models(y_true, y_pred):\n",
    "    mae = mean_absolute_error(y_true, y_pred)\n",
    "    mse = mean_squared_error(y_true, y_pred)\n",
    "    rmse = np.sqrt(mse)\n",
    "    r2 = r2_score(y_true, y_pred)\n",
    "\n",
    "    print(f'Mean Absolute Error: {mae:.2f}')\n",
    "    print(f'Mean Squared Error: {mse:.2f}')\n",
    "    print(f'Root Mean Squared Error: {rmse:.2f}')\n",
    "    print(f'R-Squared: {r2:.2f}')\n",
    "\n",
    "    return mae, mse, rmse, r2"
   ]
  },
  {
   "cell_type": "code",
   "execution_count": 12,
   "metadata": {},
   "outputs": [
    {
     "name": "stdout",
     "output_type": "stream",
     "text": [
      "Mean Absolute Error: 0.04\n",
      "Mean Squared Error: 0.00\n",
      "Root Mean Squared Error: 0.06\n",
      "R-Squared: 0.92\n",
      "Model: XGBRegressor\n",
      "----------------------------------------\n",
      "Mean Absolute Error: 0.04\n",
      "Mean Squared Error: 0.01\n",
      "Root Mean Squared Error: 0.08\n",
      "R-Squared: 0.88\n",
      "Model: RandomForestRegressor\n",
      "----------------------------------------\n"
     ]
    }
   ],
   "source": [
    "from xgboost import XGBRegressor\n",
    "from sklearn.ensemble import RandomForestRegressor\n",
    "\n",
    "# Run models\n",
    "models = [\n",
    "    XGBRegressor(),\n",
    "    RandomForestRegressor(random_state=42)\n",
    "]\n",
    "\n",
    "for model_name in models:\n",
    "    model_name.fit(X_train_transformed, y_train)\n",
    "    y_pred = model_name.predict(X_test_transformed)\n",
    "    evaluate_models(y_test, y_pred)\n",
    "\n",
    "    print(f'Model: {model_name.__class__.__name__}')   \n",
    "    print('--' * 20)"
   ]
  },
  {
   "cell_type": "code",
   "execution_count": 13,
   "metadata": {},
   "outputs": [
    {
     "data": {
      "text/plain": [
       "<Experiment: artifact_location='mlflow-artifacts:/599839046319326436', creation_time=1733566381090, experiment_id='599839046319326436', last_update_time=1733566381090, lifecycle_stage='active', name='Literacy Rate Prediction', tags={}>"
      ]
     },
     "execution_count": 13,
     "metadata": {},
     "output_type": "execute_result"
    }
   ],
   "source": [
    "import mlflow\n",
    "import mlflow.sklearn\n",
    "import mlflow.xgboost\n",
    "from mlflow.tracking import MlflowClient\n",
    "\n",
    "# Set up MLflow tracking\n",
    "mlflow.set_tracking_uri(\"http://localhost:5000\")\n",
    "mlflow.set_experiment(\"Literacy Rate Prediction\")\n",
    "\n",
    "# Run mlflow ui\n",
    "# in the terminal run: mlflow ui\n",
    "# go to http://127.0.0.1:5000"
   ]
  },
  {
   "cell_type": "code",
   "execution_count": 15,
   "metadata": {},
   "outputs": [
    {
     "name": "stdout",
     "output_type": "stream",
     "text": [
      "Mean Absolute Error: 0.04\n",
      "Mean Squared Error: 0.00\n",
      "Root Mean Squared Error: 0.06\n",
      "R-Squared: 0.92\n",
      "🏃 View run XGBRegressor at: http://localhost:5000/#/experiments/599839046319326436/runs/b9916c0d12274b4798bc1877eb408795\n",
      "🧪 View experiment at: http://localhost:5000/#/experiments/599839046319326436\n"
     ]
    }
   ],
   "source": [
    "# Train and track models\n",
    "with mlflow.start_run(run_name='XGBRegressor'):\n",
    "    \n",
    "    # Log parameters\n",
    "    mlflow.log_param('test_size', 0.2)\n",
    "    mlflow.log_param('random_state', 42)\n",
    "\n",
    "    # Train model\n",
    "    xgb_regressor = XGBRegressor()\n",
    "    xgb_regressor.fit(X_train_transformed, y_train)\n",
    "\n",
    "    # Make predictions and evaluate\n",
    "    y_pred = xgb_regressor.predict(X_test_transformed)\n",
    "    mae, mse, rmse, r2 = evaluate_models(y_test, y_pred)\n",
    "\n",
    "    # Log metrics\n",
    "    mlflow.log_metrics({\n",
    "        'Mean Absolute Error': mae,\n",
    "        'Mean Squared Error': mse,\n",
    "        'Root Mean Squared Error': rmse,\n",
    "        'R-Squared': r2\n",
    "    })"
   ]
  },
  {
   "cell_type": "code",
   "execution_count": 16,
   "metadata": {},
   "outputs": [
    {
     "name": "stdout",
     "output_type": "stream",
     "text": [
      "Mean Absolute Error: 0.04\n",
      "Mean Squared Error: 0.01\n",
      "Root Mean Squared Error: 0.08\n",
      "R-Squared: 0.88\n",
      "🏃 View run RandomForestRegressor at: http://localhost:5000/#/experiments/599839046319326436/runs/149ae4c01f224e39a38fc463f2867a1d\n",
      "🧪 View experiment at: http://localhost:5000/#/experiments/599839046319326436\n"
     ]
    }
   ],
   "source": [
    "with mlflow.start_run(run_name='RandomForestRegressor'):\n",
    "\n",
    "    # Log parameters\n",
    "    mlflow.log_param('test_size', 0.2)\n",
    "    mlflow.log_param('random_state', 42)\n",
    "\n",
    "    # Train model\n",
    "    rf_regressor = RandomForestRegressor(random_state=42)\n",
    "    rf_regressor.fit(X_train_transformed, y_train)\n",
    "\n",
    "    # Make predictions\n",
    "    y_pred = rf_regressor.predict(X_test_transformed)\n",
    "    mae, mse, rmse, r2 = evaluate_models(y_test, y_pred)\n",
    "\n",
    "    # Log metrics\n",
    "    mlflow.log_metrics({\n",
    "        'Mean Absolute Error': mae,\n",
    "        'Mean Squared Error': mse,\n",
    "        'Root Mean Squared Error': rmse,\n",
    "        'R-Squared': r2\n",
    "    })"
   ]
  }
 ],
 "metadata": {
  "kernelspec": {
   "display_name": ".venv",
   "language": "python",
   "name": "python3"
  },
  "language_info": {
   "codemirror_mode": {
    "name": "ipython",
    "version": 3
   },
   "file_extension": ".py",
   "mimetype": "text/x-python",
   "name": "python",
   "nbconvert_exporter": "python",
   "pygments_lexer": "ipython3",
   "version": "3.11.5"
  }
 },
 "nbformat": 4,
 "nbformat_minor": 2
}
