{
 "cells": [
  {
   "cell_type": "code",
   "execution_count": null,
   "metadata": {},
   "outputs": [],
   "source": [
    "import pandas as pd\n",
    "\n",
    "def load_data(file_path):\n",
    "    df = pd.read_csv(file_path)\n",
    "\n",
    "    return df\n",
    "\n",
    "file_path = 'data/literacy_rates_clean.csv'\n",
    "df = load_data(file_path)\n",
    "df.head()"
   ]
  },
  {
   "cell_type": "code",
   "execution_count": null,
   "metadata": {},
   "outputs": [],
   "source": [
    "def eda(df):\n",
    "\n",
    "    duplicates = df.duplicated().sum()\n",
    "    missing_values = df.isnull().sum()\n",
    "    data_types = df.info()\n",
    "\n",
    "    print(data_types)\n",
    "    print('--' * 20)\n",
    "    print(f\"Number of duplicates: {duplicates}\")\n",
    "    print(f\"\\nNumber of missing values: {missing_values}\")\n",
    "    \n",
    "eda(df)"
   ]
  },
  {
   "cell_type": "code",
   "execution_count": 3,
   "metadata": {},
   "outputs": [],
   "source": [
    "from sklearn.model_selection import train_test_split\n",
    "\n",
    "# Determine the target variable\n",
    "y = df['Literacy rate']\n",
    "X = df.drop(columns='Literacy rate')\n",
    "\n",
    "# Split the data into training and testing sets\n",
    "X_train, X_test, y_train, y_test = train_test_split(X, y, test_size=0.2, random_state=42)"
   ]
  },
  {
   "cell_type": "code",
   "execution_count": 4,
   "metadata": {},
   "outputs": [],
   "source": [
    "from sklearn.compose import make_column_selector, ColumnTransformer\n",
    "from sklearn.preprocessing import StandardScaler, OneHotEncoder\n",
    "from sklearn.impute import KNNImputer\n",
    "from sklearn.pipeline import Pipeline\n",
    "\n",
    "# Select categorical and numerical columns\n",
    "num_cols = make_column_selector(dtype_include='number')\n",
    "cat_cols = make_column_selector(dtype_include='object')\n",
    "\n",
    "# Instantiate the transformers\n",
    "scaler = StandardScaler()\n",
    "encoder = OneHotEncoder(sparse_output=False, handle_unknown='ignore')\n",
    "imputer = KNNImputer(n_neighbors=2)\n",
    "\n",
    "# Create preprocessing pipeline\n",
    "def preprocessing_pipeline():\n",
    "\n",
    "    # Create numeric and categorical pipelines\n",
    "    num_pipe = Pipeline([\n",
    "        ('imputer', imputer),\n",
    "        ('scaler', scaler)\n",
    "    ])\n",
    "\n",
    "    cat_pipe = Pipeline([\n",
    "        ('encoder', encoder)\n",
    "    ])\n",
    "\n",
    "    # Create preprocessor\n",
    "    preprocessor = ColumnTransformer([\n",
    "        ('numeric', num_pipe, num_cols),\n",
    "        ('categorical', cat_pipe, cat_cols)\n",
    "    ])\n",
    "\n",
    "    return preprocessor\n",
    "\n",
    "# Apply the preprocessing pipeline\n",
    "preprocessor = preprocessing_pipeline()\n",
    "X_train_transformed = preprocessor.fit_transform(X_train)\n",
    "X_test_transformed = preprocessor.transform(X_test)"
   ]
  },
  {
   "cell_type": "code",
   "execution_count": null,
   "metadata": {},
   "outputs": [],
   "source": [
    "import warnings\n",
    "from lazypredict.Supervised import LazyRegressor\n",
    "\n",
    "warnings.filterwarnings('ignore')\n",
    "\n",
    "# Instantiate the model\n",
    "lazy_model = LazyRegressor(verbose=0, ignore_warnings=False, custom_metric=None)\n",
    "\n",
    "# Fit the model\n",
    "models, predictions = lazy_model.fit(X_train, X_test, y_train, y_test)\n",
    "\n",
    "# Print the top 5 models\n",
    "top_5 = models.sort_values('Adjusted R-Squared', ascending=False).head()\n",
    "top_5"
   ]
  },
  {
   "cell_type": "code",
   "execution_count": 6,
   "metadata": {},
   "outputs": [],
   "source": [
    "import numpy as np\n",
    "from sklearn.metrics import mean_absolute_error, mean_squared_error, r2_score\n",
    "\n",
    "# Evaluate models\n",
    "def evaluate_models(y_true, y_pred):\n",
    "    mae = mean_absolute_error(y_true, y_pred)\n",
    "    mse = mean_squared_error(y_true, y_pred)\n",
    "    rmse = np.sqrt(mse)\n",
    "    r2 = r2_score(y_true, y_pred)\n",
    "\n",
    "    print(f'Mean Absolute Error: {mae:.2f}')\n",
    "    print(f'Mean Squared Error: {mse:.2f}')\n",
    "    print(f'Root Mean Squared Error: {rmse:.2f}')\n",
    "    print(f'R-Squared: {r2:.2f}')\n",
    "\n",
    "    return mae, mse, rmse, r2"
   ]
  },
  {
   "cell_type": "code",
   "execution_count": null,
   "metadata": {},
   "outputs": [],
   "source": [
    "from xgboost import XGBRegressor\n",
    "from sklearn.ensemble import RandomForestRegressor\n",
    "\n",
    "# Run models\n",
    "models = [\n",
    "    XGBRegressor(),\n",
    "    RandomForestRegressor(random_state=42)\n",
    "]\n",
    "\n",
    "for model_name in models:\n",
    "    model_name.fit(X_train_transformed, y_train)\n",
    "    y_pred = model_name.predict(X_test_transformed)\n",
    "    evaluate_models(y_test, y_pred)\n",
    "\n",
    "    print(f'Model: {model_name.__class__.__name__}')   \n",
    "    print('--' * 20)"
   ]
  },
  {
   "cell_type": "code",
   "execution_count": null,
   "metadata": {},
   "outputs": [],
   "source": [
    "import mlflow\n",
    "import mlflow.sklearn\n",
    "import mlflow.xgboost\n",
    "from mlflow.tracking import MlflowClient\n",
    "\n",
    "# Set up MLflow tracking\n",
    "mlflow.set_tracking_uri('http://localhost:5000')\n",
    "mlflow.set_experiment('literacy-rate')\n",
    "\n",
    "# Run mlflow ui\n",
    "# in the terminal run: mlflow ui\n",
    "# go to http://127.0.0.1:5000"
   ]
  },
  {
   "cell_type": "code",
   "execution_count": null,
   "metadata": {},
   "outputs": [],
   "source": [
    "# Train and track models\n",
    "with mlflow.start_run(run_name='XGBRegressor'):\n",
    "    \n",
    "    # Log parameters\n",
    "    mlflow.log_param('test_size', 0.2)\n",
    "    mlflow.log_param('random_state', 42)\n",
    "\n",
    "    # Train model\n",
    "    xgb_regressor = XGBRegressor()\n",
    "    xgb_regressor.fit(X_train_transformed, y_train)\n",
    "\n",
    "    # Make predictions and evaluate\n",
    "    y_pred = xgb_regressor.predict(X_test_transformed)\n",
    "    mae, mse, rmse, r2 = evaluate_models(y_test, y_pred)\n",
    "\n",
    "    # Log metrics\n",
    "    mlflow.log_metrics({\n",
    "        'Mean Absolute Error': mae,\n",
    "        'Mean Squared Error': mse,\n",
    "        'Root Mean Squared Error': rmse,\n",
    "        'R-Squared': r2\n",
    "    })"
   ]
  },
  {
   "cell_type": "code",
   "execution_count": null,
   "metadata": {},
   "outputs": [],
   "source": [
    "with mlflow.start_run(run_name='RandomForestRegressor'):\n",
    "\n",
    "    # Log parameters\n",
    "    mlflow.log_param('test_size', 0.2)\n",
    "    mlflow.log_param('random_state', 42)\n",
    "\n",
    "    # Train model\n",
    "    rf_regressor = RandomForestRegressor(random_state=42)\n",
    "    rf_regressor.fit(X_train_transformed, y_train)\n",
    "\n",
    "    # Make predictions\n",
    "    y_pred = rf_regressor.predict(X_test_transformed)\n",
    "    mae, mse, rmse, r2 = evaluate_models(y_test, y_pred)\n",
    "\n",
    "    # Log metrics\n",
    "    mlflow.log_metrics({\n",
    "        'Mean Absolute Error': mae,\n",
    "        'Mean Squared Error': mse,\n",
    "        'Root Mean Squared Error': rmse,\n",
    "        'R-Squared': r2\n",
    "    })"
   ]
  },
  {
   "cell_type": "code",
   "execution_count": 12,
   "metadata": {},
   "outputs": [],
   "source": [
    "from mlflow.tracking import MlflowClient\n",
    "\n",
    "# Model registry\n",
    "def register_model(run_id, model_name):\n",
    "    model_uri = f'runs:/{run_id}/model'\n",
    "\n",
    "    return mlflow.register_model(model_uri=model_uri, name=model_name)\n",
    "\n",
    "# Promote model\n",
    "def promote_challenger_to_production(model_name, prod_name):\n",
    "    client = MlflowClient()\n",
    "    current_model_uri = f\"models:/{model_name}@challenger\"\n",
    "    client.copy_model_version(src_model_uri=current_model_uri, dst_name=prod_name)\n",
    "\n",
    "# Retrieve production model\n",
    "def get_production_champion(prod_name):\n",
    "    prod_model_uri = f\"models:/{prod_name}@champion\"\n",
    "    return mlflow.xgboost.load_model(prod_model_uri)"
   ]
  },
  {
   "cell_type": "code",
   "execution_count": null,
   "metadata": {},
   "outputs": [],
   "source": [
    "run_id = 'your_run_id' # Get this from MLflow UI\n",
    "model_name = 'XGBRegressor'\n",
    "prod_name = 'literacy-rate-production'\n",
    "\n",
    "# Register model\n",
    "model_details = register_model(run_id, model_name)\n",
    "print(f'Registered model version: {model_details.version}')"
   ]
  },
  {
   "cell_type": "code",
   "execution_count": null,
   "metadata": {},
   "outputs": [],
   "source": [
    "# Promote challenger to production => make sure to add challenger to the model alias\n",
    "promote_challenger_to_production(model_name, prod_name)"
   ]
  },
  {
   "cell_type": "code",
   "execution_count": null,
   "metadata": {},
   "outputs": [],
   "source": [
    "# Get the champion model => make sure to add champion to the literacy-rate-production model alias\n",
    "champion_model = get_production_champion(prod_name)"
   ]
  }
 ],
 "metadata": {
  "kernelspec": {
   "display_name": ".venv",
   "language": "python",
   "name": "python3"
  },
  "language_info": {
   "codemirror_mode": {
    "name": "ipython",
    "version": 3
   },
   "file_extension": ".py",
   "mimetype": "text/x-python",
   "name": "python",
   "nbconvert_exporter": "python",
   "pygments_lexer": "ipython3",
   "version": "3.11.5"
  }
 },
 "nbformat": 4,
 "nbformat_minor": 2
}
